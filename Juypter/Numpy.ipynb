{
 "cells": [
  {
   "cell_type": "code",
   "execution_count": 5,
   "id": "0f119cde-f093-4bcf-bf6b-9a27d45e9319",
   "metadata": {},
   "outputs": [],
   "source": [
    "# creating numpy/n-d arrays\n",
    "import numpy as np\n"
   ]
  },
  {
   "cell_type": "code",
   "execution_count": 9,
   "id": "8c11c931-b011-4dd7-87f6-6fc767296e8b",
   "metadata": {},
   "outputs": [
    {
     "data": {
      "text/plain": [
       "array([1, 2, 3, 4])"
      ]
     },
     "execution_count": 9,
     "metadata": {},
     "output_type": "execute_result"
    }
   ],
   "source": [
    "arr1 = np.array([1,2,3,4])\n",
    "arr1\n"
   ]
  },
  {
   "cell_type": "code",
   "execution_count": 11,
   "id": "de163a09-1c1a-4b58-a63d-0ab3ada9eed9",
   "metadata": {},
   "outputs": [
    {
     "data": {
      "text/plain": [
       "numpy.ndarray"
      ]
     },
     "execution_count": 11,
     "metadata": {},
     "output_type": "execute_result"
    }
   ],
   "source": [
    "type(arr1)"
   ]
  },
  {
   "cell_type": "code",
   "execution_count": 15,
   "id": "db42475b-d3ea-4336-84aa-addd7a198fb1",
   "metadata": {},
   "outputs": [
    {
     "data": {
      "text/plain": [
       "array([[0., 0., 0., 0.],\n",
       "       [0., 0., 0., 0.],\n",
       "       [0., 0., 0., 0.]])"
      ]
     },
     "execution_count": 15,
     "metadata": {},
     "output_type": "execute_result"
    }
   ],
   "source": [
    "arr3 = np.zeros((3,4))\n",
    "arr3"
   ]
  },
  {
   "cell_type": "code",
   "execution_count": 17,
   "id": "e74a7181-55ae-4f92-946c-5ae6a9e6b8e8",
   "metadata": {},
   "outputs": [
    {
     "data": {
      "text/plain": [
       "array([[1., 1.],\n",
       "       [1., 1.],\n",
       "       [1., 1.]])"
      ]
     },
     "execution_count": 17,
     "metadata": {},
     "output_type": "execute_result"
    }
   ],
   "source": [
    "arr4 = np.ones((3,2))\n",
    "arr4"
   ]
  },
  {
   "cell_type": "code",
   "execution_count": 19,
   "id": "fd6f45a9-3f9a-407e-a811-4653996e73fb",
   "metadata": {},
   "outputs": [
    {
     "data": {
      "text/plain": [
       "array([[1., 0., 0., 0., 0.],\n",
       "       [0., 1., 0., 0., 0.],\n",
       "       [0., 0., 1., 0., 0.],\n",
       "       [0., 0., 0., 1., 0.],\n",
       "       [0., 0., 0., 0., 1.]])"
      ]
     },
     "execution_count": 19,
     "metadata": {},
     "output_type": "execute_result"
    }
   ],
   "source": [
    "arr5 = np.identity(5)\n",
    "arr5\n"
   ]
  },
  {
   "cell_type": "code",
   "execution_count": 29,
   "id": "a19c00db-69b4-4a50-8462-8bf6b1ce1a79",
   "metadata": {},
   "outputs": [
    {
     "data": {
      "text/plain": [
       "array([0, 1, 2, 3, 4, 5, 6, 7, 8, 9])"
      ]
     },
     "execution_count": 29,
     "metadata": {},
     "output_type": "execute_result"
    }
   ],
   "source": [
    "arr6 = np.arange(10)\n",
    "arr6"
   ]
  },
  {
   "cell_type": "code",
   "execution_count": 31,
   "id": "ac14936c-d4d0-441b-b2c6-4412bf6c5da8",
   "metadata": {},
   "outputs": [
    {
     "data": {
      "text/plain": [
       "array([ 5,  6,  7,  8,  9, 10, 11, 12, 13, 14, 15, 16, 17, 18, 19])"
      ]
     },
     "execution_count": 31,
     "metadata": {},
     "output_type": "execute_result"
    }
   ],
   "source": [
    "arr7 = np.arange(5,20)\n",
    "arr7"
   ]
  },
  {
   "cell_type": "code",
   "execution_count": 33,
   "id": "2571038e-dcd8-4b58-8e78-03213dbc0c9b",
   "metadata": {},
   "outputs": [
    {
     "data": {
      "text/plain": [
       "array([ 5,  8, 11, 14, 17])"
      ]
     },
     "execution_count": 33,
     "metadata": {},
     "output_type": "execute_result"
    }
   ],
   "source": [
    "arr8 = np.arange(5,20,3)\n",
    "arr8"
   ]
  },
  {
   "cell_type": "code",
   "execution_count": 35,
   "id": "6780c9b7-31a1-47df-a345-9cb468c4d34d",
   "metadata": {},
   "outputs": [
    {
     "data": {
      "text/plain": [
       "array([11., 12., 13., 14., 15., 16., 17., 18., 19., 20.])"
      ]
     },
     "execution_count": 35,
     "metadata": {},
     "output_type": "execute_result"
    }
   ],
   "source": [
    "arr9 = np.linspace(11,20,10)\n",
    "arr9"
   ]
  },
  {
   "cell_type": "code",
   "execution_count": 41,
   "id": "16810118-9164-497c-a22b-0da5035ce8ae",
   "metadata": {},
   "outputs": [
    {
     "data": {
      "text/plain": [
       "array([20.        , 23.33333333, 26.66666667, 30.        , 33.33333333,\n",
       "       36.66666667, 40.        , 43.33333333, 46.66666667, 50.        ])"
      ]
     },
     "execution_count": 41,
     "metadata": {},
     "output_type": "execute_result"
    }
   ],
   "source": [
    "# linearly spaced \n",
    "arr10 = np.linspace(20,50,10)\n",
    "arr10"
   ]
  },
  {
   "cell_type": "code",
   "execution_count": 47,
   "id": "293a1c98-0d5b-44a1-803e-7a1c797c707c",
   "metadata": {},
   "outputs": [
    {
     "data": {
      "text/plain": [
       "(4,)"
      ]
     },
     "execution_count": 47,
     "metadata": {},
     "output_type": "execute_result"
    }
   ],
   "source": [
    "arr1.shape"
   ]
  },
  {
   "cell_type": "code",
   "execution_count": 63,
   "id": "c44d901e-dd69-4665-a7de-c8678cc75f35",
   "metadata": {},
   "outputs": [
    {
     "data": {
      "text/plain": [
       "(2, 1, 3)"
      ]
     },
     "execution_count": 63,
     "metadata": {},
     "output_type": "execute_result"
    }
   ],
   "source": [
    "arr3 = np.array([[[2,2,23]],[[2,2,32]]])\n",
    "arr3.shape"
   ]
  },
  {
   "cell_type": "code",
   "execution_count": 65,
   "id": "0fe43ed5-fd98-45f7-b847-9c8073e7c190",
   "metadata": {},
   "outputs": [
    {
     "data": {
      "text/plain": [
       "3"
      ]
     },
     "execution_count": 65,
     "metadata": {},
     "output_type": "execute_result"
    }
   ],
   "source": [
    "arr3.ndim\n"
   ]
  },
  {
   "cell_type": "code",
   "execution_count": 69,
   "id": "b1daffba-a99e-4f0e-a733-9ee0b9473640",
   "metadata": {},
   "outputs": [
    {
     "data": {
      "text/plain": [
       "6"
      ]
     },
     "execution_count": 69,
     "metadata": {},
     "output_type": "execute_result"
    }
   ],
   "source": [
    "arr3.size\n"
   ]
  },
  {
   "cell_type": "code",
   "execution_count": 71,
   "id": "2f40684a-5fb2-48ee-9a65-e0d0c674e070",
   "metadata": {},
   "outputs": [
    {
     "data": {
      "text/plain": [
       "4"
      ]
     },
     "execution_count": 71,
     "metadata": {},
     "output_type": "execute_result"
    }
   ],
   "source": [
    "arr6.itemsize"
   ]
  },
  {
   "cell_type": "code",
   "execution_count": 75,
   "id": "1ae99b3a-ad38-4699-bf5b-ac2bd6eb3530",
   "metadata": {},
   "outputs": [
    {
     "data": {
      "text/plain": [
       "8"
      ]
     },
     "execution_count": 75,
     "metadata": {},
     "output_type": "execute_result"
    }
   ],
   "source": [
    "arr4.itemsize\n"
   ]
  },
  {
   "cell_type": "code",
   "execution_count": 81,
   "id": "819e9605-ed87-486d-a2ef-118b806c08c8",
   "metadata": {},
   "outputs": [
    {
     "data": {
      "text/plain": [
       "dtype('float64')"
      ]
     },
     "execution_count": 81,
     "metadata": {},
     "output_type": "execute_result"
    }
   ],
   "source": [
    "arr4.dtype"
   ]
  },
  {
   "cell_type": "code",
   "execution_count": 85,
   "id": "d6e1f957-68b1-4e90-880a-91edf795bde3",
   "metadata": {},
   "outputs": [
    {
     "data": {
      "text/plain": [
       "dtype('int32')"
      ]
     },
     "execution_count": 85,
     "metadata": {},
     "output_type": "execute_result"
    }
   ],
   "source": [
    "arr8.dtype"
   ]
  },
  {
   "cell_type": "code",
   "execution_count": 89,
   "id": "168620d6-8d50-4184-853b-619dee8d8b2f",
   "metadata": {},
   "outputs": [
    {
     "data": {
      "text/plain": [
       "array([20, 23, 26, 30, 33, 36, 40, 43, 46, 50])"
      ]
     },
     "execution_count": 89,
     "metadata": {},
     "output_type": "execute_result"
    }
   ],
   "source": [
    "arr10.astype('int32')"
   ]
  },
  {
   "cell_type": "code",
   "execution_count": 103,
   "id": "25e3a2b8-6b87-48de-95a2-c27c4f61d4e3",
   "metadata": {},
   "outputs": [],
   "source": [
    "# Numpy array VS python list\n",
    "\n",
    "#1. Less Memory\n",
    "lista = range(100)\n",
    "arr11 = np.arange(100)"
   ]
  },
  {
   "cell_type": "code",
   "execution_count": 105,
   "id": "cdcfde2f-c091-4a3d-85d1-5c54e637fe5e",
   "metadata": {},
   "outputs": [],
   "source": [
    "import sys"
   ]
  },
  {
   "cell_type": "code",
   "execution_count": 107,
   "id": "f57fa641-d71a-4244-809d-b85532bc8fb7",
   "metadata": {},
   "outputs": [
    {
     "name": "stdout",
     "output_type": "stream",
     "text": [
      "400\n"
     ]
    }
   ],
   "source": [
    "print(arr11.itemsize*len(arr11))"
   ]
  },
  {
   "cell_type": "code",
   "execution_count": 109,
   "id": "a1485e12-b367-45f0-a491-91e00055f54c",
   "metadata": {},
   "outputs": [
    {
     "name": "stdout",
     "output_type": "stream",
     "text": [
      "28\n"
     ]
    }
   ],
   "source": [
    "print(sys.getsizeof(lista[0]))"
   ]
  },
  {
   "cell_type": "code",
   "execution_count": 113,
   "id": "8279007e-97f7-4cda-b1de-c41477175ea2",
   "metadata": {},
   "outputs": [],
   "source": [
    "#2. Faster\n",
    "import time\n"
   ]
  },
  {
   "cell_type": "code",
   "execution_count": 127,
   "id": "8f92370d-2fc2-4c18-9a70-2d3f57460fef",
   "metadata": {},
   "outputs": [
    {
     "name": "stdout",
     "output_type": "stream",
     "text": [
      "1.3156111240386963\n"
     ]
    }
   ],
   "source": [
    "x = range(10000000)\n",
    "y = range(10000000,20000000)\n",
    "\n",
    "start_time=time.time()\n",
    "c = [(x,y) for x,y in zip(x,y)]\n",
    "print(time.time()-start_time)"
   ]
  },
  {
   "cell_type": "code",
   "execution_count": 129,
   "id": "d3b1cbbb-224d-4aca-8f48-020cfe823f51",
   "metadata": {},
   "outputs": [
    {
     "name": "stdout",
     "output_type": "stream",
     "text": [
      "0.39398670196533203\n"
     ]
    }
   ],
   "source": [
    "x = np.arange(10000000)\n",
    "y = np.arange(10000000,20000000)\n",
    "\n",
    "start_time=time.time()\n",
    "c = x+y\n",
    "print(time.time()-start_time)"
   ]
  },
  {
   "cell_type": "code",
   "execution_count": null,
   "id": "7a8b11a6-d9a4-4c2c-a2dc-85457aff3fa9",
   "metadata": {},
   "outputs": [],
   "source": []
  }
 ],
 "metadata": {
  "kernelspec": {
   "display_name": "Python 3 (ipykernel)",
   "language": "python",
   "name": "python3"
  },
  "language_info": {
   "codemirror_mode": {
    "name": "ipython",
    "version": 3
   },
   "file_extension": ".py",
   "mimetype": "text/x-python",
   "name": "python",
   "nbconvert_exporter": "python",
   "pygments_lexer": "ipython3",
   "version": "3.12.4"
  }
 },
 "nbformat": 4,
 "nbformat_minor": 5
}
