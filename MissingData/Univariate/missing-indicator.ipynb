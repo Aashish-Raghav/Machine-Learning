{
 "cells": [
  {
   "cell_type": "code",
   "execution_count": 1,
   "id": "c712d034-e154-4e34-bbaa-e4a4078bd857",
   "metadata": {},
   "outputs": [],
   "source": [
    "import numpy as np\n",
    "import pandas as pd\n",
    "from sklearn.model_selection import train_test_split\n",
    "from sklearn.impute import MissingIndicator,SimpleImputer\n",
    "from sklearn.linear_model import LogisticRegression\n",
    "from sklearn.metrics import accuracy_score"
   ]
  },
  {
   "cell_type": "code",
   "execution_count": 2,
   "id": "022e857d-0348-488a-86b8-0cc07981df55",
   "metadata": {},
   "outputs": [
    {
     "data": {
      "text/html": [
       "<div>\n",
       "<style scoped>\n",
       "    .dataframe tbody tr th:only-of-type {\n",
       "        vertical-align: middle;\n",
       "    }\n",
       "\n",
       "    .dataframe tbody tr th {\n",
       "        vertical-align: top;\n",
       "    }\n",
       "\n",
       "    .dataframe thead th {\n",
       "        text-align: right;\n",
       "    }\n",
       "</style>\n",
       "<table border=\"1\" class=\"dataframe\">\n",
       "  <thead>\n",
       "    <tr style=\"text-align: right;\">\n",
       "      <th></th>\n",
       "      <th>Survived</th>\n",
       "      <th>Age</th>\n",
       "      <th>Fare</th>\n",
       "    </tr>\n",
       "  </thead>\n",
       "  <tbody>\n",
       "    <tr>\n",
       "      <th>886</th>\n",
       "      <td>0</td>\n",
       "      <td>27.0</td>\n",
       "      <td>13.00</td>\n",
       "    </tr>\n",
       "    <tr>\n",
       "      <th>887</th>\n",
       "      <td>1</td>\n",
       "      <td>19.0</td>\n",
       "      <td>30.00</td>\n",
       "    </tr>\n",
       "    <tr>\n",
       "      <th>888</th>\n",
       "      <td>0</td>\n",
       "      <td>NaN</td>\n",
       "      <td>23.45</td>\n",
       "    </tr>\n",
       "    <tr>\n",
       "      <th>889</th>\n",
       "      <td>1</td>\n",
       "      <td>26.0</td>\n",
       "      <td>30.00</td>\n",
       "    </tr>\n",
       "    <tr>\n",
       "      <th>890</th>\n",
       "      <td>0</td>\n",
       "      <td>32.0</td>\n",
       "      <td>7.75</td>\n",
       "    </tr>\n",
       "  </tbody>\n",
       "</table>\n",
       "</div>"
      ],
      "text/plain": [
       "     Survived   Age   Fare\n",
       "886         0  27.0  13.00\n",
       "887         1  19.0  30.00\n",
       "888         0   NaN  23.45\n",
       "889         1  26.0  30.00\n",
       "890         0  32.0   7.75"
      ]
     },
     "execution_count": 2,
     "metadata": {},
     "output_type": "execute_result"
    }
   ],
   "source": [
    "df = pd.read_csv('train.csv',usecols=['Age','Fare','Survived'])\n",
    "df.tail()"
   ]
  },
  {
   "cell_type": "code",
   "execution_count": 3,
   "id": "fe44e663-eac9-4df8-85d6-f2e388906f81",
   "metadata": {},
   "outputs": [],
   "source": [
    "X = df.drop(columns=['Survived'])\n",
    "y = df.Survived"
   ]
  },
  {
   "cell_type": "code",
   "execution_count": 4,
   "id": "0cd51fe1-b6db-4798-b8de-5ac8780a7e42",
   "metadata": {},
   "outputs": [],
   "source": [
    "X_train,X_test,y_train,y_test = train_test_split(X,y,test_size=0.2)"
   ]
  },
  {
   "cell_type": "markdown",
   "id": "e17da3de-a2b5-4942-8344-a40f28103101",
   "metadata": {},
   "source": [
    "# Simple Imputer"
   ]
  },
  {
   "cell_type": "code",
   "execution_count": 5,
   "id": "a22b5cd9-b53d-4621-97b1-5b97da1d535c",
   "metadata": {},
   "outputs": [],
   "source": [
    "trf1 = SimpleImputer();\n",
    "X_train_trf1 = trf1.fit_transform(X_train)\n",
    "X_test_trf1 = trf1.transform(X_test)"
   ]
  },
  {
   "cell_type": "code",
   "execution_count": 6,
   "id": "3cd3c6bf-061e-47c4-bca3-01012462e68b",
   "metadata": {},
   "outputs": [
    {
     "data": {
      "text/plain": [
       "array([29.94387435, 31.98429199])"
      ]
     },
     "execution_count": 6,
     "metadata": {},
     "output_type": "execute_result"
    }
   ],
   "source": [
    "trf1.statistics_"
   ]
  },
  {
   "cell_type": "markdown",
   "id": "173f5d3f-ee65-44e8-b089-8c44492d3c48",
   "metadata": {},
   "source": [
    "# Missing Indicator"
   ]
  },
  {
   "cell_type": "code",
   "execution_count": 7,
   "id": "511a45db-8d10-4f09-883d-db9eefa916e1",
   "metadata": {},
   "outputs": [],
   "source": [
    "trf2 = MissingIndicator()\n",
    "X_train_missing = trf2.fit_transform(X_train)\n",
    "X_test_missing = trf2.fit_transform(X_test)"
   ]
  },
  {
   "cell_type": "code",
   "execution_count": 8,
   "id": "5c6b4824-7e14-4959-9430-69120409d6e3",
   "metadata": {},
   "outputs": [],
   "source": [
    "X_train_trf2 = X_train\n",
    "X_train_trf2['Age_NA'] = X_train_missing\n",
    "\n",
    "X_test_trf2 = X_test\n",
    "X_test_trf2['Age_NA'] = X_test_missing\n",
    "\n",
    "si = SimpleImputer()\n",
    "\n",
    "X_train_trf2 = si.fit_transform(X_train_trf2)\n",
    "X_test_trf2 = si.transform(X_test_trf2)"
   ]
  },
  {
   "cell_type": "code",
   "execution_count": 9,
   "id": "864115be-25d1-4d7f-99bc-47d5289663ad",
   "metadata": {},
   "outputs": [
    {
     "data": {
      "text/plain": [
       "array([[ 30.        ,  93.5       ,   0.        ],\n",
       "       [ 25.        ,   0.        ,   0.        ],\n",
       "       [ 70.        ,  71.        ,   0.        ],\n",
       "       ...,\n",
       "       [ 24.        ,  13.        ,   0.        ],\n",
       "       [ 29.94387435,   8.1125    ,   1.        ],\n",
       "       [ 22.        , 135.6333    ,   0.        ]])"
      ]
     },
     "execution_count": 9,
     "metadata": {},
     "output_type": "execute_result"
    }
   ],
   "source": [
    "X_train_trf2"
   ]
  },
  {
   "cell_type": "markdown",
   "id": "92ecba98-81f8-4627-97e5-838a299b928f",
   "metadata": {},
   "source": [
    "# Use Logistic Regression to compare accuracy"
   ]
  },
  {
   "cell_type": "code",
   "execution_count": 10,
   "id": "e52fa3d3-1b1b-4387-8c02-914bec7340dd",
   "metadata": {},
   "outputs": [
    {
     "data": {
      "text/plain": [
       "0.6480446927374302"
      ]
     },
     "execution_count": 10,
     "metadata": {},
     "output_type": "execute_result"
    }
   ],
   "source": [
    "clf1 = LogisticRegression()\n",
    "clf1.fit(X_train_trf1,y_train)\n",
    "y_pred1 = clf1.predict(X_test_trf1)\n",
    "\n",
    "accuracy_score(y_test,y_pred1)\n"
   ]
  },
  {
   "cell_type": "code",
   "execution_count": 11,
   "id": "5a96e7f0-b985-44ca-9576-f3f8a11a8a0f",
   "metadata": {},
   "outputs": [
    {
     "data": {
      "text/plain": [
       "0.664804469273743"
      ]
     },
     "execution_count": 11,
     "metadata": {},
     "output_type": "execute_result"
    }
   ],
   "source": [
    "clf3 = LogisticRegression()\n",
    "clf3.fit(X_train_trf2,y_train)\n",
    "y_pred2 = clf3.predict(X_test_trf2)\n",
    "\n",
    "accuracy_score(y_test,y_pred2)"
   ]
  },
  {
   "cell_type": "code",
   "execution_count": null,
   "id": "7ebb63df-a426-496c-afdd-89a83bde0251",
   "metadata": {},
   "outputs": [],
   "source": []
  }
 ],
 "metadata": {
  "kernelspec": {
   "display_name": "Python 3 (ipykernel)",
   "language": "python",
   "name": "python3"
  },
  "language_info": {
   "codemirror_mode": {
    "name": "ipython",
    "version": 3
   },
   "file_extension": ".py",
   "mimetype": "text/x-python",
   "name": "python",
   "nbconvert_exporter": "python",
   "pygments_lexer": "ipython3",
   "version": "3.11.9"
  }
 },
 "nbformat": 4,
 "nbformat_minor": 5
}
