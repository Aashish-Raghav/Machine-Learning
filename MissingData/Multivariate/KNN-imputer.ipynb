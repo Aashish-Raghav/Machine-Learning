{
 "cells": [
  {
   "cell_type": "code",
   "execution_count": 39,
   "id": "55a85f3a-376f-4722-ba43-9d28a5276621",
   "metadata": {},
   "outputs": [],
   "source": [
    "import numpy as np\n",
    "import pandas as pd\n",
    "\n",
    "from sklearn.model_selection import train_test_split,GridSearchCV\n",
    "from sklearn.impute import KNNImputer,SimpleImputer\n",
    "from sklearn.linear_model import LogisticRegression\n",
    "from sklearn.metrics import accuracy_score\n",
    "from sklearn.pipeline import Pipeline"
   ]
  },
  {
   "cell_type": "code",
   "execution_count": 18,
   "id": "44cc0908-b6d7-425d-ac79-cacb128f6811",
   "metadata": {},
   "outputs": [
    {
     "data": {
      "text/html": [
       "<div>\n",
       "<style scoped>\n",
       "    .dataframe tbody tr th:only-of-type {\n",
       "        vertical-align: middle;\n",
       "    }\n",
       "\n",
       "    .dataframe tbody tr th {\n",
       "        vertical-align: top;\n",
       "    }\n",
       "\n",
       "    .dataframe thead th {\n",
       "        text-align: right;\n",
       "    }\n",
       "</style>\n",
       "<table border=\"1\" class=\"dataframe\">\n",
       "  <thead>\n",
       "    <tr style=\"text-align: right;\">\n",
       "      <th></th>\n",
       "      <th>Survived</th>\n",
       "      <th>Pclass</th>\n",
       "      <th>Age</th>\n",
       "      <th>Fare</th>\n",
       "    </tr>\n",
       "  </thead>\n",
       "  <tbody>\n",
       "    <tr>\n",
       "      <th>318</th>\n",
       "      <td>1</td>\n",
       "      <td>1</td>\n",
       "      <td>31.0</td>\n",
       "      <td>164.8667</td>\n",
       "    </tr>\n",
       "  </tbody>\n",
       "</table>\n",
       "</div>"
      ],
      "text/plain": [
       "     Survived  Pclass   Age      Fare\n",
       "318         1       1  31.0  164.8667"
      ]
     },
     "execution_count": 18,
     "metadata": {},
     "output_type": "execute_result"
    }
   ],
   "source": [
    "df = pd.read_csv('train.csv',usecols=['Pclass','Age','Fare','Survived'])\n",
    "df.sample()"
   ]
  },
  {
   "cell_type": "code",
   "execution_count": 19,
   "id": "aade4104-6fc9-4b09-830e-b49ac9aeddb3",
   "metadata": {},
   "outputs": [
    {
     "data": {
      "text/plain": [
       "Survived     0.00000\n",
       "Pclass       0.00000\n",
       "Age         19.86532\n",
       "Fare         0.00000\n",
       "dtype: float64"
      ]
     },
     "execution_count": 19,
     "metadata": {},
     "output_type": "execute_result"
    }
   ],
   "source": [
    "df.isnull().mean()*100"
   ]
  },
  {
   "cell_type": "code",
   "execution_count": 20,
   "id": "a17ee6e0-dae2-41ac-8e6c-7676c608b104",
   "metadata": {},
   "outputs": [],
   "source": [
    "X = df.drop(columns=['Survived'])\n",
    "y = df.Survived"
   ]
  },
  {
   "cell_type": "code",
   "execution_count": 21,
   "id": "4d00b96f-7f7d-4344-bbf4-1663c80735ba",
   "metadata": {},
   "outputs": [],
   "source": [
    "X_train,X_test,y_train,y_test = train_test_split(X,y,test_size=0.2,random_state=0)"
   ]
  },
  {
   "cell_type": "code",
   "execution_count": 22,
   "id": "87b207a7-e1f0-4c46-a700-a7147abea7d1",
   "metadata": {},
   "outputs": [
    {
     "data": {
      "text/plain": [
       "(712, 3)"
      ]
     },
     "execution_count": 22,
     "metadata": {},
     "output_type": "execute_result"
    }
   ],
   "source": [
    "X_train.shape"
   ]
  },
  {
   "cell_type": "code",
   "execution_count": 25,
   "id": "341307b0-ac7a-4e13-8224-d1f82f6a3152",
   "metadata": {},
   "outputs": [],
   "source": [
    "def knnImputerAccuracy(neigh,wt):\n",
    "    knn = KNNImputer(n_neighbors=neigh,weights=wt)\n",
    "\n",
    "    X_train_knn_trf = knn.fit_transform(X_train)\n",
    "    X_test_knn_trf = knn.transform(X_test)\n",
    "\n",
    "    lr_knn = LogisticRegression()\n",
    "    lr_knn.fit(X_train_knn_trf,y_train)\n",
    "\n",
    "    y_pred_knn = lr_knn.predict(X_test_knn_trf)\n",
    "    print(accuracy_score(y_test,y_pred_knn))"
   ]
  },
  {
   "cell_type": "code",
   "execution_count": 85,
   "id": "bce1acf4-bf98-4aec-b94c-062287a1c9a0",
   "metadata": {},
   "outputs": [
    {
     "name": "stdout",
     "output_type": "stream",
     "text": [
      "0.7318435754189944\n"
     ]
    }
   ],
   "source": [
    "knnImputerAccuracy(5,'distance')"
   ]
  },
  {
   "cell_type": "code",
   "execution_count": 69,
   "id": "815cb63c-b5e6-491c-89d6-07fc565c102b",
   "metadata": {},
   "outputs": [
    {
     "name": "stdout",
     "output_type": "stream",
     "text": [
      "0.7374301675977654\n"
     ]
    }
   ],
   "source": [
    "knnImputerAccuracy(1,'uniform')"
   ]
  },
  {
   "cell_type": "code",
   "execution_count": 75,
   "id": "f7607474-75dc-46ff-8f94-c00e257f66d4",
   "metadata": {},
   "outputs": [],
   "source": [
    "def Accuracy():\n",
    "    si = SimpleImputer()\n",
    "    X_train_trf = si.fit_transform(X_train)\n",
    "    X_test_trf = si.transform(X_test);\n",
    "    lr = LogisticRegression()\n",
    "    lr.fit(X_train_trf,y_train)\n",
    "\n",
    "    y_pred_trf = lr.predict(X_test_trf)\n",
    "    print(accuracy_score(y_test,y_pred_trf))"
   ]
  },
  {
   "cell_type": "code",
   "execution_count": 76,
   "id": "ac2b153b-4552-49c6-a2db-c8c7979ca31c",
   "metadata": {},
   "outputs": [
    {
     "name": "stdout",
     "output_type": "stream",
     "text": [
      "0.7318435754189944\n"
     ]
    }
   ],
   "source": [
    "Accuracy()"
   ]
  },
  {
   "cell_type": "markdown",
   "id": "c89e1400-9d82-4aa7-b687-e95825c853a5",
   "metadata": {},
   "source": [
    "# Grid Search CV to find best result of knnImputer"
   ]
  },
  {
   "cell_type": "code",
   "execution_count": 58,
   "id": "5a8428e9-b2b3-42c9-adfb-fa437c1ab842",
   "metadata": {},
   "outputs": [],
   "source": [
    "clf = Pipeline([\n",
    "    ('knn',KNNImputer()),\n",
    "    ('classifier',LogisticRegression())\n",
    "])\n",
    "param_grid = {\n",
    "    'knn__n_neighbors':np.arange(1,101),\n",
    "    'knn__weights': ['distance','uniform']\n",
    "}\n",
    "\n",
    "grid_search = GridSearchCV(clf,param_grid)"
   ]
  },
  {
   "cell_type": "code",
   "execution_count": 59,
   "id": "c8665c9f-3513-4ce7-b79d-4a05771da74f",
   "metadata": {},
   "outputs": [
    {
     "name": "stdout",
     "output_type": "stream",
     "text": [
      "Best params : \n",
      "{'knn__n_neighbors': np.int64(3), 'knn__weights': 'distance'}\n"
     ]
    }
   ],
   "source": [
    "grid_search.fit(X_train,y_train)\n",
    "\n",
    "print(f\"Best params : \")\n",
    "print(grid_search.best_params_)"
   ]
  },
  {
   "cell_type": "code",
   "execution_count": 60,
   "id": "2a85751c-72b6-4358-8cf6-27a1d44a48bc",
   "metadata": {},
   "outputs": [
    {
     "name": "stdout",
     "output_type": "stream",
     "text": [
      "Internal CV score: 0.698\n"
     ]
    }
   ],
   "source": [
    "print(f\"Internal CV score: {grid_search.best_score_:.3f}\")"
   ]
  },
  {
   "cell_type": "code",
   "execution_count": 61,
   "id": "563facff-5c54-465b-af80-5a88c564d776",
   "metadata": {},
   "outputs": [
    {
     "data": {
      "text/html": [
       "<div>\n",
       "<style scoped>\n",
       "    .dataframe tbody tr th:only-of-type {\n",
       "        vertical-align: middle;\n",
       "    }\n",
       "\n",
       "    .dataframe tbody tr th {\n",
       "        vertical-align: top;\n",
       "    }\n",
       "\n",
       "    .dataframe thead th {\n",
       "        text-align: right;\n",
       "    }\n",
       "</style>\n",
       "<table border=\"1\" class=\"dataframe\">\n",
       "  <thead>\n",
       "    <tr style=\"text-align: right;\">\n",
       "      <th></th>\n",
       "      <th>param_knn__n_neighbors</th>\n",
       "      <th>param_knn__weights</th>\n",
       "      <th>mean_test_score</th>\n",
       "    </tr>\n",
       "  </thead>\n",
       "  <tbody>\n",
       "    <tr>\n",
       "      <th>4</th>\n",
       "      <td>3</td>\n",
       "      <td>distance</td>\n",
       "      <td>0.698099</td>\n",
       "    </tr>\n",
       "    <tr>\n",
       "      <th>21</th>\n",
       "      <td>11</td>\n",
       "      <td>uniform</td>\n",
       "      <td>0.696691</td>\n",
       "    </tr>\n",
       "    <tr>\n",
       "      <th>71</th>\n",
       "      <td>36</td>\n",
       "      <td>uniform</td>\n",
       "      <td>0.696681</td>\n",
       "    </tr>\n",
       "    <tr>\n",
       "      <th>51</th>\n",
       "      <td>26</td>\n",
       "      <td>uniform</td>\n",
       "      <td>0.696681</td>\n",
       "    </tr>\n",
       "    <tr>\n",
       "      <th>65</th>\n",
       "      <td>33</td>\n",
       "      <td>uniform</td>\n",
       "      <td>0.696681</td>\n",
       "    </tr>\n",
       "    <tr>\n",
       "      <th>...</th>\n",
       "      <td>...</td>\n",
       "      <td>...</td>\n",
       "      <td>...</td>\n",
       "    </tr>\n",
       "    <tr>\n",
       "      <th>16</th>\n",
       "      <td>9</td>\n",
       "      <td>distance</td>\n",
       "      <td>0.691067</td>\n",
       "    </tr>\n",
       "    <tr>\n",
       "      <th>17</th>\n",
       "      <td>9</td>\n",
       "      <td>uniform</td>\n",
       "      <td>0.691067</td>\n",
       "    </tr>\n",
       "    <tr>\n",
       "      <th>14</th>\n",
       "      <td>8</td>\n",
       "      <td>distance</td>\n",
       "      <td>0.689668</td>\n",
       "    </tr>\n",
       "    <tr>\n",
       "      <th>13</th>\n",
       "      <td>7</td>\n",
       "      <td>uniform</td>\n",
       "      <td>0.689658</td>\n",
       "    </tr>\n",
       "    <tr>\n",
       "      <th>3</th>\n",
       "      <td>2</td>\n",
       "      <td>uniform</td>\n",
       "      <td>0.688250</td>\n",
       "    </tr>\n",
       "  </tbody>\n",
       "</table>\n",
       "<p>200 rows × 3 columns</p>\n",
       "</div>"
      ],
      "text/plain": [
       "    param_knn__n_neighbors param_knn__weights  mean_test_score\n",
       "4                        3           distance         0.698099\n",
       "21                      11            uniform         0.696691\n",
       "71                      36            uniform         0.696681\n",
       "51                      26            uniform         0.696681\n",
       "65                      33            uniform         0.696681\n",
       "..                     ...                ...              ...\n",
       "16                       9           distance         0.691067\n",
       "17                       9            uniform         0.691067\n",
       "14                       8           distance         0.689668\n",
       "13                       7            uniform         0.689658\n",
       "3                        2            uniform         0.688250\n",
       "\n",
       "[200 rows x 3 columns]"
      ]
     },
     "execution_count": 61,
     "metadata": {},
     "output_type": "execute_result"
    }
   ],
   "source": [
    "cv_results = pd.DataFrame(grid_search.cv_results_)\n",
    "cv_results = cv_results.sort_values(\"mean_test_score\", ascending=False)\n",
    "cv_results[['param_knn__n_neighbors','param_knn__weights','mean_test_score']]"
   ]
  },
  {
   "cell_type": "code",
   "execution_count": null,
   "id": "17218317-7566-47ab-8e61-f1de0585391f",
   "metadata": {},
   "outputs": [],
   "source": []
  }
 ],
 "metadata": {
  "kernelspec": {
   "display_name": "Python 3 (ipykernel)",
   "language": "python",
   "name": "python3"
  },
  "language_info": {
   "codemirror_mode": {
    "name": "ipython",
    "version": 3
   },
   "file_extension": ".py",
   "mimetype": "text/x-python",
   "name": "python",
   "nbconvert_exporter": "python",
   "pygments_lexer": "ipython3",
   "version": "3.11.9"
  }
 },
 "nbformat": 4,
 "nbformat_minor": 5
}
