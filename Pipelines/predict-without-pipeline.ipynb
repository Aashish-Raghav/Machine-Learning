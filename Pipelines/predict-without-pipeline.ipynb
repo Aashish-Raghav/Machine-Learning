{
 "cells": [
  {
   "cell_type": "code",
   "execution_count": 1,
   "id": "8dd2a2e7-1a8c-4656-8ac6-ba38e4eb6596",
   "metadata": {},
   "outputs": [],
   "source": [
    "import numpy as np\n",
    "import pickle\n",
    "import pandas as pd"
   ]
  },
  {
   "cell_type": "code",
   "execution_count": 10,
   "id": "07b1972c-9279-4910-844b-2a196eb5e9d1",
   "metadata": {},
   "outputs": [],
   "source": [
    "si_age = pickle.load(open('si_age.pkl','rb'))\n",
    "si_embarked = pickle.load(open('si_embarked.pkl','rb'))\n",
    "ohe_embarked = pickle.load(open('ohe_embarked.pkl','rb'))\n",
    "ohe_sex = pickle.load(open('ohe_sex.pkl','rb'))\n",
    "clf = pickle.load(open('clf.pkl','rb'))"
   ]
  },
  {
   "cell_type": "code",
   "execution_count": 74,
   "id": "edfb8054-6b1d-42e2-b8c7-dcea100d8e92",
   "metadata": {},
   "outputs": [],
   "source": [
    "# Assume user input\n",
    "# Pclass/gender/age/SibSp/Parch/Embarked\n",
    "test_input = np.array([1, 'female', 38.0, 1, 0, 'C'],dtype=object).reshape(1,6)"
   ]
  },
  {
   "cell_type": "code",
   "execution_count": 75,
   "id": "a43f254f-69a9-4735-b492-d46399410663",
   "metadata": {},
   "outputs": [
    {
     "data": {
      "text/plain": [
       "array([[1, 'female', 38.0, 1, 0, 'C']], dtype=object)"
      ]
     },
     "execution_count": 75,
     "metadata": {},
     "output_type": "execute_result"
    }
   ],
   "source": [
    " test_input"
   ]
  },
  {
   "cell_type": "markdown",
   "id": "6e1d82fb-abca-4e10-bc9e-a35fa49540f1",
   "metadata": {},
   "source": [
    "# No need for Imputer since all values present"
   ]
  },
  {
   "cell_type": "code",
   "execution_count": 76,
   "id": "5ba3bd27-4ebd-40ed-8281-c205644a9cc1",
   "metadata": {},
   "outputs": [],
   "source": [
    "test_input_embarked = ohe_embarked.transform(test_input[:,-1].reshape(1,1))"
   ]
  },
  {
   "cell_type": "code",
   "execution_count": 77,
   "id": "210ff9db-4139-4589-a1a7-79b9bce3cc9e",
   "metadata": {},
   "outputs": [
    {
     "data": {
      "text/plain": [
       "array([[1., 0., 0.]])"
      ]
     },
     "execution_count": 77,
     "metadata": {},
     "output_type": "execute_result"
    }
   ],
   "source": [
    "test_input_embarked"
   ]
  },
  {
   "cell_type": "code",
   "execution_count": 78,
   "id": "c0000f97-19ac-4972-89b7-93554042141f",
   "metadata": {},
   "outputs": [
    {
     "name": "stderr",
     "output_type": "stream",
     "text": [
      "C:\\Users\\aashi\\anaconda3\\envs\\Virt1\\Lib\\site-packages\\sklearn\\base.py:493: UserWarning: X does not have valid feature names, but OneHotEncoder was fitted with feature names\n",
      "  warnings.warn(\n"
     ]
    }
   ],
   "source": [
    "test_input_sex = ohe_sex.transform(test_input[:,1].reshape(1,1))"
   ]
  },
  {
   "cell_type": "code",
   "execution_count": 79,
   "id": "11a993d2-8d9b-4d7c-adcf-9e9e9ae09a16",
   "metadata": {},
   "outputs": [
    {
     "data": {
      "text/plain": [
       "array([[1., 0.]])"
      ]
     },
     "execution_count": 79,
     "metadata": {},
     "output_type": "execute_result"
    }
   ],
   "source": [
    "test_input_sex"
   ]
  },
  {
   "cell_type": "code",
   "execution_count": 80,
   "id": "ba18242d-7b53-4c5b-a1ae-d896583aeaf7",
   "metadata": {},
   "outputs": [],
   "source": [
    "test_input_age = test_input[:,2].reshape(1,1)"
   ]
  },
  {
   "cell_type": "code",
   "execution_count": 81,
   "id": "599b07d3-ce12-4fc9-851c-e7e72e814254",
   "metadata": {},
   "outputs": [],
   "source": [
    "test_input_transformed = np.concatenate((test_input[:,[0,3,4]],test_input_age,test_input_embarked,test_input_sex),axis=1)"
   ]
  },
  {
   "cell_type": "code",
   "execution_count": 82,
   "id": "7f9da345-9bf5-4246-9d8d-bebe6a01f6b7",
   "metadata": {},
   "outputs": [
    {
     "data": {
      "text/plain": [
       "array([[1, 1, 0, 38.0, 1.0, 0.0, 0.0, 1.0, 0.0]], dtype=object)"
      ]
     },
     "execution_count": 82,
     "metadata": {},
     "output_type": "execute_result"
    }
   ],
   "source": [
    "test_input_transformed"
   ]
  },
  {
   "cell_type": "code",
   "execution_count": 83,
   "id": "2b489abe-d166-474e-9cb4-9a1b88eff7b9",
   "metadata": {},
   "outputs": [
    {
     "data": {
      "text/plain": [
       "array([1])"
      ]
     },
     "execution_count": 83,
     "metadata": {},
     "output_type": "execute_result"
    }
   ],
   "source": [
    "clf.predict(test_input_transformed)"
   ]
  },
  {
   "cell_type": "code",
   "execution_count": null,
   "id": "79ddf1b3-c925-497b-866c-6c48656c4dc8",
   "metadata": {},
   "outputs": [],
   "source": []
  }
 ],
 "metadata": {
  "kernelspec": {
   "display_name": "Python 3 (ipykernel)",
   "language": "python",
   "name": "python3"
  },
  "language_info": {
   "codemirror_mode": {
    "name": "ipython",
    "version": 3
   },
   "file_extension": ".py",
   "mimetype": "text/x-python",
   "name": "python",
   "nbconvert_exporter": "python",
   "pygments_lexer": "ipython3",
   "version": "3.11.9"
  }
 },
 "nbformat": 4,
 "nbformat_minor": 5
}
