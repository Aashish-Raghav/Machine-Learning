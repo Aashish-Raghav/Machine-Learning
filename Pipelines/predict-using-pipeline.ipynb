{
 "cells": [
  {
   "cell_type": "code",
   "execution_count": 1,
   "id": "c61d6cf1-3596-4f95-8971-f55664cdf3d2",
   "metadata": {},
   "outputs": [],
   "source": [
    "import pickle\n",
    "import numpy as np"
   ]
  },
  {
   "cell_type": "code",
   "execution_count": 2,
   "id": "129b8e50-1333-4e1f-9b80-88132bf4b966",
   "metadata": {},
   "outputs": [],
   "source": [
    "pipe = pickle.load(open('pipe.pkl','rb'))"
   ]
  },
  {
   "cell_type": "code",
   "execution_count": 5,
   "id": "3f07f93c-6baa-48f2-8439-a6a0799bac96",
   "metadata": {},
   "outputs": [],
   "source": [
    "# Assume user input\n",
    "# Pclass/gender/age/SibSp/Parch/Fare/Embarked\n",
    "test_input = np.array([1,'male',26.0,0,0,30.00,'C'],dtype=object).reshape(1,7)"
   ]
  },
  {
   "cell_type": "code",
   "execution_count": 6,
   "id": "7c1662fe-051e-4beb-858b-0358f619de90",
   "metadata": {},
   "outputs": [
    {
     "name": "stderr",
     "output_type": "stream",
     "text": [
      "C:\\Users\\aashi\\anaconda3\\envs\\Virt1\\Lib\\site-packages\\sklearn\\base.py:493: UserWarning: X does not have valid feature names, but SimpleImputer was fitted with feature names\n",
      "  warnings.warn(\n",
      "C:\\Users\\aashi\\anaconda3\\envs\\Virt1\\Lib\\site-packages\\sklearn\\base.py:493: UserWarning: X does not have valid feature names, but SimpleImputer was fitted with feature names\n",
      "  warnings.warn(\n"
     ]
    },
    {
     "data": {
      "text/plain": [
       "array([1])"
      ]
     },
     "execution_count": 6,
     "metadata": {},
     "output_type": "execute_result"
    }
   ],
   "source": [
    "pipe.predict(test_input)"
   ]
  },
  {
   "cell_type": "code",
   "execution_count": null,
   "id": "c1ddaabc-0eb1-4ad4-a401-b04e446a5b79",
   "metadata": {},
   "outputs": [],
   "source": []
  }
 ],
 "metadata": {
  "kernelspec": {
   "display_name": "Python 3 (ipykernel)",
   "language": "python",
   "name": "python3"
  },
  "language_info": {
   "codemirror_mode": {
    "name": "ipython",
    "version": 3
   },
   "file_extension": ".py",
   "mimetype": "text/x-python",
   "name": "python",
   "nbconvert_exporter": "python",
   "pygments_lexer": "ipython3",
   "version": "3.11.9"
  }
 },
 "nbformat": 4,
 "nbformat_minor": 5
}
